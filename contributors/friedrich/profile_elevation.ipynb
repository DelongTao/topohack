{
 "cells": [
  {
   "cell_type": "markdown",
   "metadata": {},
   "source": [
    "### Elevation profiles extracted from SRTM over Mt Baker compared with ICESat-2"
   ]
  },
  {
   "cell_type": "code",
   "execution_count": 1,
   "metadata": {},
   "outputs": [],
   "source": [
    "import numpy as np\n",
    "import pandas as pd\n",
    "import geopandas as gpd\n",
    "import rasterio\n",
    "import matplotlib.pyplot as plt\n",
    "%matplotlib inline\n",
    "from geopandas import GeoSeries\n",
    "import os\n",
    "import h5py\n",
    "from shapely.geometry import Point,Polygon\n",
    "import glob\n",
    "from rasterio import features\n",
    "from topolib import gda_lib"
   ]
  },
  {
   "cell_type": "markdown",
   "metadata": {},
   "source": [
    "### Read reference DEM"
   ]
  },
  {
   "cell_type": "code",
   "execution_count": 2,
   "metadata": {},
   "outputs": [],
   "source": [
    "dem_fn = '/home/jovyan/data/srtm_elevation/SRTM3/cache/srtm_wa_subset.vrt'\n",
    "ds = rasterio.open(dem_fn)"
   ]
  },
  {
   "cell_type": "markdown",
   "metadata": {},
   "source": [
    "### Read ATL06 data"
   ]
  },
  {
   "cell_type": "code",
   "execution_count": 3,
   "metadata": {},
   "outputs": [],
   "source": [
    "data_dir = '/home/jovyan/data/nsidc/**/'\n",
    "ATL06_list = sorted(glob.glob(data_dir + \"*.h5\"))"
   ]
  },
  {
   "cell_type": "code",
   "execution_count": 4,
   "metadata": {},
   "outputs": [],
   "source": [
    "ATL06_fn = ATL06_list[0]\n",
    "\n",
    "dataset_dict={'land_ice_segments':['h_li',\n",
    "                                   'delta_time',\n",
    "                                   'longitude',\n",
    "                                   'latitude'],\n",
    "              'land_ice_segments/ground_track':['x_atc']}"
   ]
  },
  {
   "cell_type": "code",
   "execution_count": 5,
   "metadata": {},
   "outputs": [],
   "source": [
    "ATL06_gdf = gda_lib.ATL06_2_gdf(ATL06_fn,dataset_dict)\n",
    "ATL06_gdf = ATL06_gdf.to_crs(ds.crs)"
   ]
  },
  {
   "cell_type": "code",
   "execution_count": 6,
   "metadata": {},
   "outputs": [],
   "source": [
    "dem = ds.read(1)\n",
    "dem = np.ma.masked_equal(dem,gda_lib.get_ndv(ds))"
   ]
  },
  {
   "cell_type": "code",
   "execution_count": 16,
   "metadata": {},
   "outputs": [],
   "source": [
    "xmin,ymin,xmax,ymax = ds.bounds\n",
    "extent = ds.bounds"
   ]
  },
  {
   "cell_type": "code",
   "execution_count": 18,
   "metadata": {},
   "outputs": [
    {
     "data": {
      "text/plain": [
       "<matplotlib.colorbar.Colorbar at 0x7f136ab076a0>"
      ]
     },
     "execution_count": 18,
     "metadata": {},
     "output_type": "execute_result"
    },
    {
     "data": {
      "image/png": "[encoded data removed]",
      "text/plain": [
       "<Figure size 432x288 with 2 Axes>"
      ]
     },
     "metadata": {
      "needs_background": "light"
     },
     "output_type": "display_data"
    }
   ],
   "source": [
    "fig,ax = plt.subplots()\n",
    "im = ax.imshow(dem,cmap='inferno',extent=[xmin,xmax,ymin,ymax])\n",
    "plt.colorbar(im,label='HAE (m WGS84)')\n",
    "ATL06_gdf.plot(ax=ax)\n",
    "# ax.set_extent(extent)"
   ]
  },
  {
   "cell_type": "code",
   "execution_count": 19,
   "metadata": {},
   "outputs": [],
   "source": [
    "bbox = ds.bounds"
   ]
  },
  {
   "cell_type": "code",
   "execution_count": 41,
   "metadata": {},
   "outputs": [],
   "source": [
    "def dem2polygon(dem_file_name):\n",
    "    \"\"\"\n",
    "        Take DEM and return polygon geodataframe matching the extent and coordinate system of the input DEM.\n",
    "        \n",
    "        Input parameters:\n",
    "        dem_file_name: Absolute path to a DEM file\n",
    "        \n",
    "        Output parameters:\n",
    "        dem_polygon: A polygon geodataframe matching the extent and coordinate system of the input DEM.\n",
    "\n",
    "    \"\"\"\n",
    "    \n",
    "    # read in dem using rasterio\n",
    "    dem = rasterio.open(dem_file_name)\n",
    "    \n",
    "    # extact total bounds of dem\n",
    "    bbox = dem.bounds\n",
    "    \n",
    "    # convert to corner points\n",
    "    p1 = Point(bbox[0], bbox[3])\n",
    "    p2 = Point(bbox[2], bbox[3])\n",
    "    p3 = Point(bbox[2], bbox[1])\n",
    "    p4 = Point(bbox[0], bbox[1])\n",
    "    \n",
    "    # extract corner coordinates\n",
    "    np1 = (p1.coords.xy[0][0], p1.coords.xy[1][0])\n",
    "    np2 = (p2.coords.xy[0][0], p2.coords.xy[1][0])\n",
    "    np3 = (p3.coords.xy[0][0], p3.coords.xy[1][0])\n",
    "    np4 = (p4.coords.xy[0][0], p4.coords.xy[1][0])\n",
    "    \n",
    "    # convert to polygon\n",
    "    bb_polygon = Polygon([np1, np2, np3, np4])\n",
    "\n",
    "    # create geodataframe\n",
    "    dem_polygon_gdf = gpd.GeoDataFrame(gpd.GeoSeries(bb_polygon), columns=['geometry'])\n",
    "    \n",
    "    dem_polygon_gdf.crs = dem.crs\n",
    "    \n",
    "    return dem_polygon_gdf\n"
   ]
  },
  {
   "cell_type": "code",
   "execution_count": 42,
   "metadata": {},
   "outputs": [],
   "source": [
    "poly = dem2polygon(dem_fn)"
   ]
  },
  {
   "cell_type": "code",
   "execution_count": 43,
   "metadata": {},
   "outputs": [
    {
     "data": {
      "text/plain": [
       "<matplotlib.axes._subplots.AxesSubplot at 0x7f13694a3630>"
      ]
     },
     "execution_count": 43,
     "metadata": {},
     "output_type": "execute_result"
    },
    {
     "data": {
      "image/png": "[encoded data removed]",
      "text/plain": [
       "<Figure size 432x288 with 1 Axes>"
      ]
     },
     "metadata": {
      "needs_background": "light"
     },
     "output_type": "display_data"
    }
   ],
   "source": [
    "poly.plot()"
   ]
  },
  {
   "cell_type": "code",
   "execution_count": 36,
   "metadata": {},
   "outputs": [],
   "source": [
    "glas_gdf_aea_rgi = gpd.sjoin(ATL06_gdf, df2, op='intersects', how='inner')"
   ]
  },
  {
   "cell_type": "code",
   "execution_count": 38,
   "metadata": {},
   "outputs": [
    {
     "data": {
      "text/plain": [
       "<matplotlib.axes._subplots.AxesSubplot at 0x7f1369dd7710>"
      ]
     },
     "execution_count": 38,
     "metadata": {},
     "output_type": "execute_result"
    },
    {
     "data": {
      "image/png": "[encoded data removed]",
      "text/plain": [
       "<Figure size 432x288 with 1 Axes>"
      ]
     },
     "metadata": {
      "needs_background": "light"
     },
     "output_type": "display_data"
    }
   ],
   "source": [
    "glas_gdf_aea_rgi.plot()"
   ]
  },
  {
   "cell_type": "code",
   "execution_count": null,
   "metadata": {},
   "outputs": [],
   "source": []
  }
 ],
 "metadata": {
  "kernelspec": {
   "display_name": "Python 3",
   "language": "python",
   "name": "python3"
  },
  "language_info": {
   "codemirror_mode": {
    "name": "ipython",
    "version": 3
   },
   "file_extension": ".py",
   "mimetype": "text/x-python",
   "name": "python",
   "nbconvert_exporter": "python",
   "pygments_lexer": "ipython3",
   "version": "3.6.7"
  }
 },
 "nbformat": 4,
 "nbformat_minor": 2
}
