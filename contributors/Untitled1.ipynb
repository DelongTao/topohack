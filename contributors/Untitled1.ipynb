{
 "cells": [
  {
   "cell_type": "code",
   "execution_count": 1,
   "metadata": {},
   "outputs": [
    {
     "name": "stdout",
     "output_type": "stream",
     "text": [
      "--2019-06-20 20:27:06--  https://www.glims.org/RGI/rgi60_files/14_rgi60_SouthAsiaWest.zip\n",
      "Resolving www.glims.org (www.glims.org)... 128.138.135.43\n",
      "Connecting to www.glims.org (www.glims.org)|128.138.135.43|:443... connected.\n",
      "HTTP request sent, awaiting response... 200 OK\n",
      "Length: 46424343 (44M) [application/zip]\n",
      "Saving to: ‘14_rgi60_SouthAsiaWest.zip’\n",
      "\n",
      "14_rgi60_SouthAsiaW 100%[===================>]  44.27M  11.4MB/s    in 5.2s    \n",
      "\n",
      "2019-06-20 20:27:24 (8.47 MB/s) - ‘14_rgi60_SouthAsiaWest.zip’ saved [46424343/46424343]\n",
      "\n",
      "--2019-06-20 20:27:24--  https://www.glims.org/RGI/rgi60_files/15_rgi60_SouthAsiaEast.zip\n",
      "Resolving www.glims.org (www.glims.org)... 128.138.135.43\n",
      "Connecting to www.glims.org (www.glims.org)|128.138.135.43|:443... connected.\n",
      "HTTP request sent, awaiting response... 200 OK\n",
      "Length: 15918156 (15M) [application/zip]\n",
      "Saving to: ‘15_rgi60_SouthAsiaEast.zip’\n",
      "\n",
      "15_rgi60_SouthAsiaE 100%[===================>]  15.18M  7.52MB/s    in 2.0s    \n",
      "\n",
      "2019-06-20 20:27:26 (7.52 MB/s) - ‘15_rgi60_SouthAsiaEast.zip’ saved [15918156/15918156]\n",
      "\n",
      "--2019-06-20 20:27:26--  https://www.glims.org/RGI/rgi60_files/13_rgi60_CentralAsia.zip\n",
      "Resolving www.glims.org (www.glims.org)... 128.138.135.43\n",
      "Connecting to www.glims.org (www.glims.org)|128.138.135.43|:443... connected.\n",
      "HTTP request sent, awaiting response... 200 OK\n",
      "Length: 65663035 (63M) [application/zip]\n",
      "Saving to: ‘13_rgi60_CentralAsia.zip’\n",
      "\n",
      "13_rgi60_CentralAsi 100%[===================>]  62.62M  15.3MB/s    in 5.5s    \n",
      "\n",
      "2019-06-20 20:27:33 (11.4 MB/s) - ‘13_rgi60_CentralAsia.zip’ saved [65663035/65663035]\n",
      "\n"
     ]
    }
   ],
   "source": [
    "!wget -nc https://www.glims.org/RGI/rgi60_files/14_rgi60_SouthAsiaWest.zip\n",
    "!wget -nc https://www.glims.org/RGI/rgi60_files/15_rgi60_SouthAsiaEast.zip \n",
    "!wget -nc https://www.glims.org/RGI/rgi60_files/13_rgi60_CentralAsia.zip "
   ]
  },
  {
   "cell_type": "code",
   "execution_count": null,
   "metadata": {},
   "outputs": [],
   "source": []
  }
 ],
 "metadata": {
  "kernelspec": {
   "display_name": "Python 3",
   "language": "python",
   "name": "python3"
  },
  "language_info": {
   "codemirror_mode": {
    "name": "ipython",
    "version": 3
   },
   "file_extension": ".py",
   "mimetype": "text/x-python",
   "name": "python",
   "nbconvert_exporter": "python",
   "pygments_lexer": "ipython3",
   "version": "3.6.7"
  }
 },
 "nbformat": 4,
 "nbformat_minor": 2
}
