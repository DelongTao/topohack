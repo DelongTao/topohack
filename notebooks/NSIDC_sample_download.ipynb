{
 "cells": [
  {
   "cell_type": "code",
   "execution_count": 1,
   "metadata": {
    "pycharm": {
     "is_executing": false
    }
   },
   "outputs": [],
   "source": [
    "import getpass\n",
    "\n",
    "from topolib import IceSat2Data"
   ]
  },
  {
   "cell_type": "code",
   "execution_count": 2,
   "metadata": {
    "pycharm": {
     "is_executing": false
    }
   },
   "outputs": [
    {
     "name": "stdin",
     "output_type": "stream",
     "text": [
      "Earthdata Login password:  ·········\n"
     ]
    }
   ],
   "source": [
    "# Earthdata Login credentials\n",
    "# Enter your Earthdata Login user name\n",
    "user_id = 'amy.steiker'\n",
    "# Enter your email address associated with your Earthdata Login account\n",
    "email = 'amy.steiker@nsidc.org'\n",
    "password = getpass.getpass('Earthdata Login password: ')"
   ]
  },
  {
   "cell_type": "code",
   "execution_count": 3,
   "metadata": {
    "pycharm": {
     "is_executing": false
    }
   },
   "outputs": [],
   "source": [
    "# Specify the variables of interest\n",
    "variables = {\n",
    "    'beams': [\n",
    "        '/land_ice_segments/atl06_quality_summary',\n",
    "        '/land_ice_segments/delta_time',\n",
    "        '/land_ice_segments/h_li',\n",
    "        '/land_ice_segments/h_li_sigma',\n",
    "        '/land_ice_segments/latitude',\n",
    "        '/land_ice_segments/longitude',\n",
    "        '/land_ice_segments/segment_id',\n",
    "        '/land_ice_segments/sigma_geo_h',\n",
    "        '/ancillary_data/atlas_sdp_gps_epoch'\n",
    "    ],\n",
    "    'other': [\n",
    "        '/orbit_info/cycle_number',\n",
    "        '/orbit_info/rgt',\n",
    "        '/orbit_info/orbit_number',\n",
    "    ]\n",
    "}\n",
    "# Area of interest\n",
    "boundaries = {\n",
    "    'LowerLeft_Lon': '-108.3',\n",
    "    'LowerLeft_Lat': '38.8',\n",
    "    'UpperRight_Lon': '-107.5',\n",
    "    'UpperRight_Lat': '39.3',\n",
    "}\n",
    "# Custom time range of interest\n",
    "time_range = {\n",
    "        'start_date': '2018-10-01',\n",
    "        'end_date': '2019-01-01'\n",
    "}"
   ]
  },
  {
   "cell_type": "code",
   "execution_count": 4,
   "metadata": {
    "collapsed": false,
    "pycharm": {
     "name": "#%%\n"
    }
   },
   "outputs": [],
   "source": [
    "# Setup a search session\n",
    "search = IceSat2Data(user_id, password, variables=variables)"
   ]
  },
  {
   "cell_type": "code",
   "execution_count": null,
   "metadata": {
    "collapsed": false,
    "pycharm": {
     "name": "#%%\n"
    }
   },
   "outputs": [],
   "source": [
    "# Show available variables\n",
    "search.show_variables()\n",
    "\n",
    "# Show available formats\n",
    "search.show_formats()"
   ]
  },
  {
   "cell_type": "code",
   "execution_count": null,
   "metadata": {
    "collapsed": false,
    "pycharm": {
     "name": "#%%\n"
    }
   },
   "outputs": [],
   "source": [
    "# Search for granules in bounding box without download through all datasets\n",
    "search.search_granules(bounding_box=boundaries)\n",
    "\n",
    "# Search for granules in bounding box without download for specific time range\n",
    "search.search_granules(bounding_box=boundaries, time_range=time_range)"
   ]
  },
  {
   "cell_type": "code",
   "execution_count": 5,
   "metadata": {
    "collapsed": false,
    "pycharm": {
     "name": "#%%\n"
    }
   },
   "outputs": [
    {
     "name": "stdout",
     "output_type": "stream",
     "text": [
      "Number of granules:\n",
      "    14\n",
      "Average size of granules in MB:\n",
      "    21.039645126892857\n",
      "Total size in MB:\n",
      "    294.55503177649996\n",
      "Order:  1\n",
      "Request HTTP response:  201\n",
      "order ID:  5000000320289\n",
      "Data request  1  is submitting...\n",
      "Initial request status is  processing\n",
      "Status is not complete. Trying again.\n",
      "Retry request status is:  complete_with_errors\n",
      "error messages:\n",
      "['161028994:NoMatchingData - No data found that matched subset constraints. '\n",
      " 'Exit code 3.',\n",
      " '161152465:NoMatchingData - No data found that matched subset constraints. '\n",
      " 'Exit code 3.',\n",
      " '161084250:NoMatchingData - No data found that matched subset constraints. '\n",
      " 'Exit code 3.',\n",
      " '161255398:NoMatchingData - No data found that matched subset constraints. '\n",
      " 'Exit code 3.',\n",
      " 'PT1.976S',\n",
      " 'ICESAT2']\n",
      "Beginning download of zipped output...\n",
      "Data request 1 is complete.\n",
      "Order:  2\n",
      "Request HTTP response:  201\n",
      "order ID:  5000000320290\n",
      "Data request  2  is submitting...\n",
      "Initial request status is  processing\n",
      "Status is not complete. Trying again.\n",
      "Retry request status is:  complete_with_errors\n",
      "error messages:\n",
      "['161334410:NoMatchingData - No data found that matched subset constraints. '\n",
      " 'Exit code 3.',\n",
      " '161322380:NoMatchingData - No data found that matched subset constraints. '\n",
      " 'Exit code 3.',\n",
      " 'PT1.278S',\n",
      " 'ICESAT2']\n",
      "Beginning download of zipped output...\n",
      "Data request 2 is complete.\n"
     ]
    }
   ],
   "source": [
    "#Submit a download order to NSIDC with no time restriction\n",
    "search.order_data(\n",
    "    email,\n",
    "    '/home/jovyan/data/',\n",
    "    boundaries,\n",
    ")\n",
    "\n",
    "# # Submit a download order to NSIDC with no time restriction\n",
    "# search.order_data(\n",
    "#     email,\n",
    "#     '/home/jovyan/data/',\n",
    "#     boundaries,\n",
    "#     time_range=time_range    \n",
    "# )"
   ]
  },
  {
   "cell_type": "code",
   "execution_count": null,
   "metadata": {},
   "outputs": [],
   "source": [
    "print(status)"
   ]
  },
  {
   "cell_type": "code",
   "execution_count": null,
   "metadata": {},
   "outputs": [],
   "source": []
  }
 ],
 "metadata": {
  "kernelspec": {
   "display_name": "Python 3",
   "language": "python",
   "name": "python3"
  },
  "language_info": {
   "codemirror_mode": {
    "name": "ipython",
    "version": 3
   },
   "file_extension": ".py",
   "mimetype": "text/x-python",
   "name": "python",
   "nbconvert_exporter": "python",
   "pygments_lexer": "ipython3",
   "version": "3.6.7"
  },
  "pycharm": {
   "stem_cell": {
    "cell_type": "raw",
    "metadata": {
     "collapsed": false
    },
    "source": []
   }
  }
 },
 "nbformat": 4,
 "nbformat_minor": 2
}
