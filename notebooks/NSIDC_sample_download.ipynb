{
 "cells": [
  {
   "cell_type": "code",
   "execution_count": 1,
   "metadata": {},
   "outputs": [],
   "source": [
    "from topolib import IceSat2Data\n",
    "import getpass"
   ]
  },
  {
   "cell_type": "code",
   "execution_count": 4,
   "metadata": {},
   "outputs": [
    {
     "name": "stdin",
     "output_type": "stream",
     "text": [
      "Earthdata Login password:  ············\n"
     ]
    }
   ],
   "source": [
    "# Earthdata Login credentials\n",
    "# Enter your Earthdata Login user name\n",
    "user_id = 'x'\n",
    "# Enter your email address associated with your Earthdata Login account\n",
    "email = ''\n",
    "password = getpass.getpass('Earthdata Login password: ')"
   ]
  },
  {
   "cell_type": "code",
   "execution_count": 5,
   "metadata": {},
   "outputs": [],
   "source": [
    "# Setup a search session\n",
    "search = IceSat2Data(user_id, password)"
   ]
  },
  {
   "cell_type": "code",
   "execution_count": 6,
   "metadata": {},
   "outputs": [],
   "source": [
    "# Area and time of interest\n",
    "boundaries = {\n",
    "'LowerLeft_Lon': '-108.3',\n",
    "'LowerLeft_Lat': '38.8',\n",
    "'UpperRight_Lon': '-107.5',\n",
    "'UpperRight_Lat': '39.3',\n",
    "}\n",
    "\n",
    "start_date = '2018-10-16'\n",
    "end_date = '2019-06-01'"
   ]
  },
  {
   "cell_type": "code",
   "execution_count": 7,
   "metadata": {},
   "outputs": [
    {
     "name": "stdout",
     "output_type": "stream",
     "text": [
      "Number of granules:\n",
      "    14\n",
      "Average size of granules in MB:\n",
      "    21.039645126892857\n",
      "Total size in MB:\n",
      "    294.55503177649996\n",
      "Order:  1\n",
      "Request HTTP response:  201\n",
      "order ID:  5000000319868\n",
      "Data request  1  is submitting...\n",
      "Initial request status is  pending\n",
      "Status is not complete. Trying again.\n",
      "Retry request status is:  pending\n",
      "Status is not complete. Trying again.\n",
      "Retry request status is:  processing\n",
      "Status is not complete. Trying again.\n",
      "Retry request status is:  complete_with_errors\n",
      "error messages:\n",
      "['161028994:NoMatchingData - No data found that matched subset constraints. '\n",
      " 'Exit code 3.',\n",
      " '161152465:NoMatchingData - No data found that matched subset constraints. '\n",
      " 'Exit code 3.',\n",
      " '161084250:NoMatchingData - No data found that matched subset constraints. '\n",
      " 'Exit code 3.',\n",
      " '161255398:NoMatchingData - No data found that matched subset constraints. '\n",
      " 'Exit code 3.',\n",
      " 'PT20.654S',\n",
      " 'ICESAT2']\n",
      "Beginning download of zipped output...\n",
      "Data request 1 is complete.\n",
      "Order:  2\n",
      "Request HTTP response:  201\n",
      "order ID:  5000000319870\n",
      "Data request  2  is submitting...\n",
      "Initial request status is  processing\n",
      "Status is not complete. Trying again.\n",
      "Retry request status is:  complete_with_errors\n",
      "error messages:\n",
      "['161334410:NoMatchingData - No data found that matched subset constraints. '\n",
      " 'Exit code 3.',\n",
      " '161322380:NoMatchingData - No data found that matched subset constraints. '\n",
      " 'Exit code 3.',\n",
      " 'PT1.435S',\n",
      " 'ICESAT2']\n",
      "Beginning download of zipped output...\n",
      "Data request 2 is complete.\n"
     ]
    }
   ],
   "source": [
    "# Show available variables\n",
    "search.show_variables()\n",
    "\n",
    "# Search for granules in bounding box wihtout download\n",
    "search.search_granules(start_date, end_date, bounding_box=boundaries)\n",
    "\n",
    "# Submit a download order to NSIDC\n",
    "res = search.order_data(\n",
    "    email,\n",
    "    '/home/jovyan/data/',\n",
    "    start_date, end_date, \n",
    "    boundaries\n",
    ")"
   ]
  },
  {
   "cell_type": "code",
   "execution_count": null,
   "metadata": {},
   "outputs": [],
   "source": []
  }
 ],
 "metadata": {
  "kernelspec": {
   "display_name": "Python 3",
   "language": "python",
   "name": "python3"
  },
  "language_info": {
   "codemirror_mode": {
    "name": "ipython",
    "version": 3
   },
   "file_extension": ".py",
   "mimetype": "text/x-python",
   "name": "python",
   "nbconvert_exporter": "python",
   "pygments_lexer": "ipython3",
   "version": "3.6.7"
  }
 },
 "nbformat": 4,
 "nbformat_minor": 2
}
